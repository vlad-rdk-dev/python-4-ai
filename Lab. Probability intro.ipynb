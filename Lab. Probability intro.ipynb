{
 "cells": [
  {
   "cell_type": "markdown",
   "metadata": {},
   "source": [
    "# Probability"
   ]
  },
  {
   "cell_type": "markdown",
   "metadata": {},
   "source": [
    "## Challenge 1\n",
    "There is a box with 10 white balls, 12 red balls and 8 black balls. Calculate the probability of:\n",
    "* Taking a white ball out.\n",
    "* Taking a white ball on first extraction and a black ball out on second extraction without replacing the first one.\n",
    "* Taking a white ball on first extraction and a black ball out on second extraction replacing the first one.\n",
    "* Taking 3 balls and them being all different colours."
   ]
  },
  {
   "cell_type": "code",
   "execution_count": 1,
   "metadata": {},
   "outputs": [
    {
     "name": "stdout",
     "output_type": "stream",
     "text": [
      "Probability of taking a white ball out: 0.3333333333333333\n",
      "Probability of taking a white ball first and a black ball second without replacement: 0.09195402298850575\n",
      "Probability of taking a white ball first and a black ball second with replacement: 0.08888888888888888\n",
      "Probability of taking three balls all of different colors: 0.23645320197044334\n"
     ]
    }
   ],
   "source": [
    "\"\"\"\n",
    "your solution here\n",
    "\n",
    "Total balls = 30\n",
    "\n",
    "P(white ball) = 10/30 = 1/3\n",
    "\n",
    "P(white ball after black)  = 10/29\n",
    "\n",
    "P(red ball with reposition) = 12/30\n",
    "\n",
    "\n",
    "\"\"\"\n",
    "import math\n",
    "\n",
    "# Total number of balls\n",
    "total_balls = 10 + 12 + 8\n",
    "\n",
    "# Probability of taking a white ball out\n",
    "prob_white = 10 / total_balls\n",
    "print(f\"Probability of taking a white ball out: {prob_white}\")\n",
    "\n",
    "# Probability of taking a white ball first and a black ball second without replacement\n",
    "prob_white_first = 10 / total_balls\n",
    "prob_black_second_no_replacement = 8 / (total_balls - 1)\n",
    "prob_white_then_black_no_replacement = prob_white_first * prob_black_second_no_replacement\n",
    "print(f\"Probability of taking a white ball first and a black ball second without replacement: {prob_white_then_black_no_replacement}\")\n",
    "\n",
    "# Probability of taking a white ball first and a black ball second with replacement\n",
    "prob_black_second_with_replacement = 8 / total_balls\n",
    "prob_white_then_black_with_replacement = prob_white_first * prob_black_second_with_replacement\n",
    "print(f\"Probability of taking a white ball first and a black ball second with replacement: {prob_white_then_black_with_replacement}\")\n",
    "\n",
    "# Probability of taking three balls all of different colors\n",
    "# Total ways to draw 3 balls out of 30\n",
    "total_ways_draw_3 = math.comb(total_balls, 3)\n",
    "\n",
    "# Ways to choose one white, one red, and one black ball\n",
    "ways_one_of_each_color = 10 * 12 * 8\n",
    "\n",
    "# Probability of one of each color\n",
    "prob_one_of_each_color = ways_one_of_each_color / total_ways_draw_3\n",
    "print(f\"Probability of taking three balls all of different colors: {prob_one_of_each_color}\")\n"
   ]
  },
  {
   "cell_type": "markdown",
   "metadata": {},
   "source": [
    "## Challenge 2\n",
    "\n",
    "You want to go on picnic on Saturday. You hate rain, and would know to plan your weekend. To help you make a decision, you gather the following data about rainy days:\n",
    "\n",
    "* 40% of all days are cloudy.\n",
    "* About 50% of cloudy days are rainy. \n",
    "* About 20% of non-cloudy days are rainy.\n",
    "\n",
    "What is the chance of rain during next Saturday?"
   ]
  },
  {
   "cell_type": "code",
   "execution_count": 2,
   "metadata": {},
   "outputs": [
    {
     "name": "stdout",
     "output_type": "stream",
     "text": [
      "The probability of rain on Saturday is: 0.32\n"
     ]
    }
   ],
   "source": [
    "\"\"\"\n",
    "your solution here\n",
    "\n",
    "\n",
    "We want to know P(R)\n",
    "\n",
    "\n",
    "P(R) = P(C & R) / P(not C & R)\n",
    "       = (0.4*0.5) + (0.6*0.2)\n",
    "       = 0.32\n",
    "       \n",
    "\n",
    "\"\"\"\n",
    "# Given probabilities\n",
    "P_C = 0.40  # Probability of a cloudy day\n",
    "P_R_given_C = 0.50  # Probability of rain given that it is a cloudy day\n",
    "P_R_given_not_C = 0.20  # Probability of rain given that it is not a cloudy day\n",
    "\n",
    "# Probability of not a cloudy day\n",
    "P_not_C = 1 - P_C\n",
    "\n",
    "# Using the law of total probability\n",
    "P_R = (P_R_given_C * P_C) + (P_R_given_not_C * P_not_C)\n",
    "\n",
    "print(f\"The probability of rain on Saturday is: {P_R}\")"
   ]
  },
  {
   "cell_type": "markdown",
   "metadata": {},
   "source": [
    "## Challenge 3\n",
    "\n",
    "A and B are events of a probability such that $P(A) = 0.3$, $P(B) = 0.6$ and $P(A \\cap B) = 0.1$\n",
    "\n",
    "Which of the following statements are true?  \n",
    "**HINT: draw a big Venn Diagram by your side**  \n",
    "* $P(\\overline{A}) = 0.7$\n",
    "* $P(A \\cup B) = 0.6$\n",
    "* $P(A \\cap \\overline{B}) = 0.2$\n",
    "* $P(A \\cup \\overline{A}) = 1$  \n",
    "* $P(A \\cap (B \\cup \\overline{B})) = 0.4$\n",
    "* $P(\\overline{A} \\cap \\overline{B}) = 0.3$\n",
    "* $P(\\overline{A \\cap B}) = 0.9$"
   ]
  },
  {
   "cell_type": "code",
   "execution_count": 3,
   "metadata": {},
   "outputs": [
    {
     "name": "stdout",
     "output_type": "stream",
     "text": [
      "P(not A) = 0.7\n",
      "P(A or B) = 0.7999999999999999\n",
      "P(A and not B) = 0.19999999999999998\n",
      "P(A or not A) = 1\n",
      "P(A and (B or not B)) = 0.3\n",
      "P(not A and not B) = 0.20000000000000007\n",
      "P(not (A and B)) = 0.9\n"
     ]
    }
   ],
   "source": [
    "\"\"\"\n",
    "your solution here\n",
    "\n",
    "The first statement is true. \n",
    "\n",
    "The second statement is false.\n",
    "P(A U B) = P(A) + P(B) - P(A & B)\n",
    "         = 0.3 + 0.6 - 0.1\n",
    "         = 0.8\n",
    "\n",
    "The third statement is True\n",
    "\n",
    "The fourth statement is true (contains everything)\n",
    "\n",
    "The fifth statement is False (= 0.3)\n",
    " - The union of B and not B is everything. So the P(A & everything) is P(A) = 0.3\n",
    " \n",
    "The sixth statement is false (= 0.4)\n",
    "\n",
    "The last statement is true (1 - P(A & B) = 0.9)\n",
    "\n",
    "\n",
    "\"\"\"\n",
    "# Given probabilities\n",
    "P_A = 0.3\n",
    "P_B = 0.6\n",
    "P_A_and_B = 0.1\n",
    "\n",
    "# Calculate P(not A)\n",
    "P_not_A = 1 - P_A\n",
    "print(f\"P(not A) = {P_not_A}\")  # Expected: 0.7\n",
    "\n",
    "# Calculate P(A or B) using the formula: P(A or B) = P(A) + P(B) - P(A and B)\n",
    "P_A_or_B = P_A + P_B - P_A_and_B\n",
    "print(f\"P(A or B) = {P_A_or_B}\")  # Expected: 0.8\n",
    "\n",
    "# Calculate P(A and not B) using the formula: P(A and not B) = P(A) - P(A and B)\n",
    "P_A_and_not_B = P_A - P_A_and_B\n",
    "print(f\"P(A and not B) = {P_A_and_not_B}\")  # Expected: 0.2\n",
    "\n",
    "# Calculate P(A or not A) which should always be 1\n",
    "P_A_or_not_A = 1\n",
    "print(f\"P(A or not A) = {P_A_or_not_A}\")  # Expected: 1\n",
    "\n",
    "# Calculate P(A and (B or not B)) which is P(A) since B or not B is the entire sample space\n",
    "P_A_and_B_or_not_B = P_A\n",
    "print(f\"P(A and (B or not B)) = {P_A_and_B_or_not_B}\")  # Expected: 0.3\n",
    "\n",
    "# Calculate P(not A and not B) using De Morgan's law: P(not A and not B) = 1 - P(A or B)\n",
    "P_not_A_and_not_B = 1 - P_A_or_B\n",
    "print(f\"P(not A and not B) = {P_not_A_and_not_B}\")  # Expected: 0.2\n",
    "\n",
    "# Calculate P(not (A and B)) using the formula: P(not (A and B)) = 1 - P(A and B)\n",
    "P_not_A_and_B = 1 - P_A_and_B\n",
    "print(f\"P(not (A and B)) = {P_not_A_and_B}\")  # Expected: 0.9"
   ]
  },
  {
   "cell_type": "markdown",
   "metadata": {},
   "source": [
    "## Challenge 4\n",
    "\n",
    " * If someone flies to China, the probability of getting Covid is 1%  \n",
    " * If someone flies to Italy, the probability of getting Covid is 20%  \n",
    "\n",
    "I roll 1 dice with numbers 1, 2, 3, 4, 5, 6:  \n",
    " * If 1: I fly to Italy\n",
    " * If not 1: I fly to China\n",
    "\n",
    "During my trip, I got Covid. What is the probability that I flew to China?"
   ]
  },
  {
   "cell_type": "code",
   "execution_count": 4,
   "metadata": {},
   "outputs": [
    {
     "name": "stdout",
     "output_type": "stream",
     "text": [
      "The probability that I flew to China given that I got Covid is: 0.2\n"
     ]
    }
   ],
   "source": [
    "# Given probabilities\n",
    "P_I = 1 / 6\n",
    "P_C = 5 / 6\n",
    "P_D_given_I = 0.20\n",
    "P_D_given_C = 0.01\n",
    "\n",
    "# Calculate P(D)\n",
    "P_D = (P_D_given_I * P_I) + (P_D_given_C * P_C)\n",
    "\n",
    "# Calculate P(C | D) using Bayes' theorem\n",
    "P_C_given_D = (P_D_given_C * P_C) / P_D\n",
    "\n",
    "print(f\"The probability that I flew to China given that I got Covid is: {P_C_given_D}\")"
   ]
  },
  {
   "cell_type": "markdown",
   "metadata": {},
   "source": [
    "## BONUS\n",
    "\n",
    "You roll 2 dice. What is the probability that the sum of the numbers is 7? And 8? And 9? Then simulate 10000 times and draw a countplot."
   ]
  },
  {
   "cell_type": "markdown",
   "metadata": {},
   "source": [
    "your explanation here"
   ]
  },
  {
   "cell_type": "code",
   "execution_count": 6,
   "metadata": {},
   "outputs": [
    {
     "name": "stdout",
     "output_type": "stream",
     "text": [
      "Probability of sum being 7: 0.1674\n",
      "Probability of sum being 8: 0.1345\n",
      "Probability of sum being 9: 0.1079\n"
     ]
    }
   ],
   "source": [
    "import numpy as np\n",
    "import seaborn as sns\n",
    "import matplotlib.pyplot as plt\n",
    "\n",
    "# Number of simulations\n",
    "num_simulations = 10000\n",
    "\n",
    "# Simulate rolling two dice\n",
    "dice_rolls = np.random.randint(1, 7, size=(num_simulations, 2))\n",
    "sums = np.sum(dice_rolls, axis=1)\n",
    "\n",
    "# Calculate and print probabilities\n",
    "sum_counts = np.bincount(sums)[2:]  # since sums can be from 2 to 12\n",
    "total_rolls = num_simulations\n",
    "probabilities = sum_counts / total_rolls\n",
    "\n",
    "print(f\"Probability of sum being 7: {probabilities[5]:.4f}\")\n",
    "print(f\"Probability of sum being 8: {probabilities[6]:.4f}\")\n",
    "print(f\"Probability of sum being 9: {probabilities[7]:.4f}\")"
   ]
  }
 ],
 "metadata": {
  "kernelspec": {
   "display_name": "Python 3 (ipykernel)",
   "language": "python",
   "name": "python3"
  },
  "language_info": {
   "codemirror_mode": {
    "name": "ipython",
    "version": 3
   },
   "file_extension": ".py",
   "mimetype": "text/x-python",
   "name": "python",
   "nbconvert_exporter": "python",
   "pygments_lexer": "ipython3",
   "version": "3.11.7"
  },
  "toc": {
   "base_numbering": 1,
   "nav_menu": {},
   "number_sections": false,
   "sideBar": true,
   "skip_h1_title": false,
   "title_cell": "Table of Contents",
   "title_sidebar": "Contents",
   "toc_cell": false,
   "toc_position": {
    "height": "calc(100% - 180px)",
    "left": "10px",
    "top": "150px",
    "width": "296.475px"
   },
   "toc_section_display": true,
   "toc_window_display": false
  },
  "varInspector": {
   "cols": {
    "lenName": 16,
    "lenType": 16,
    "lenVar": 40
   },
   "kernels_config": {
    "python": {
     "delete_cmd_postfix": "",
     "delete_cmd_prefix": "del ",
     "library": "var_list.py",
     "varRefreshCmd": "print(var_dic_list())"
    },
    "r": {
     "delete_cmd_postfix": ") ",
     "delete_cmd_prefix": "rm(",
     "library": "var_list.r",
     "varRefreshCmd": "cat(var_dic_list()) "
    }
   },
   "types_to_exclude": [
    "module",
    "function",
    "builtin_function_or_method",
    "instance",
    "_Feature"
   ],
   "window_display": false
  }
 },
 "nbformat": 4,
 "nbformat_minor": 4
}
